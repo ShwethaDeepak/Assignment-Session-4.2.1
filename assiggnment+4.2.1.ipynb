{
 "cells": [
  {
   "cell_type": "code",
   "execution_count": 2,
   "metadata": {},
   "outputs": [
    {
     "name": "stdout",
     "output_type": "stream",
     "text": [
      "[6, 3, 10, 18, 1]\n"
     ]
    }
   ],
   "source": [
    "# Problem Statement 1:\n",
    "\n",
    "def string_length(list):\n",
    "    length_list = [len(x) for x in list]\n",
    "    return length_list\n",
    "\n",
    "alist = [\"adsnkj\",\"sjk\",\"jsdhniushd\",\"sndjsdjssssssssjud\",\"s\"]\n",
    "result = string_length(alist)\n",
    "print(result)"
   ]
  },
  {
   "cell_type": "code",
   "execution_count": 5,
   "metadata": {},
   "outputs": [
    {
     "name": "stdout",
     "output_type": "stream",
     "text": [
      "False\n"
     ]
    }
   ],
   "source": [
    "# Problem Statement 2:\n",
    "\n",
    "def is_vowel(char):\n",
    "    if(char == 'a' or char == 'e' or char == 'i' or char == 'o' or char == 'u' or char == 'A' or char == 'E' or char == 'I' or char == 'O' or char == 'U'):\n",
    "        return True\n",
    "    else:\n",
    "        return False\n",
    "\n",
    "result = is_vowel('J')\n",
    "print(result)\n"
   ]
  },
  {
   "cell_type": "code",
   "execution_count": null,
   "metadata": {
    "collapsed": true
   },
   "outputs": [],
   "source": []
  }
 ],
 "metadata": {
  "kernelspec": {
   "display_name": "Python 3",
   "language": "python",
   "name": "python3"
  },
  "language_info": {
   "codemirror_mode": {
    "name": "ipython",
    "version": 3
   },
   "file_extension": ".py",
   "mimetype": "text/x-python",
   "name": "python",
   "nbconvert_exporter": "python",
   "pygments_lexer": "ipython3",
   "version": "3.6.3"
  }
 },
 "nbformat": 4,
 "nbformat_minor": 2
}
